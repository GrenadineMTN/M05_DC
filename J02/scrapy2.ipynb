{
 "cells": [
  {
   "cell_type": "code",
   "execution_count": 3,
   "metadata": {},
   "outputs": [],
   "source": [
    "\n",
    "# Import os => Library used to easily manipulate operating systems\n",
    "## More info => https://docs.python.org/3/library/os.html\n",
    "import os \n",
    "\n",
    "# Import logging => Library used for logs manipulation \n",
    "## More info => https://docs.python.org/3/library/logging.html\n",
    "import logging\n",
    "\n",
    "# Import scrapy and scrapy.crawler \n",
    "import scrapy\n",
    "from scrapy.crawler import CrawlerProcess\n",
    "\n",
    "\n",
    "\n",
    "#"
   ]
  },
  {
   "cell_type": "code",
   "execution_count": 4,
   "metadata": {},
   "outputs": [
    {
     "ename": "FileNotFoundError",
     "evalue": "[Errno 2] No such file or directory: 'src/'",
     "output_type": "error",
     "traceback": [
      "\u001b[0;31m---------------------------------------------------------------------------\u001b[0m",
      "\u001b[0;31mFileNotFoundError\u001b[0m                         Traceback (most recent call last)",
      "Cell \u001b[0;32mIn[4], line 28\u001b[0m\n\u001b[1;32m     24\u001b[0m filename \u001b[38;5;241m=\u001b[39m \u001b[38;5;124m\"\u001b[39m\u001b[38;5;124m2_quotes.json\u001b[39m\u001b[38;5;124m\"\u001b[39m\n\u001b[1;32m     26\u001b[0m \u001b[38;5;66;03m# If file already exists, delete it before crawling (because Scrapy will \u001b[39;00m\n\u001b[1;32m     27\u001b[0m \u001b[38;5;66;03m# concatenate the last and new results otherwise)\u001b[39;00m\n\u001b[0;32m---> 28\u001b[0m \u001b[38;5;28;01mif\u001b[39;00m filename \u001b[38;5;129;01min\u001b[39;00m \u001b[43mos\u001b[49m\u001b[38;5;241;43m.\u001b[39;49m\u001b[43mlistdir\u001b[49m\u001b[43m(\u001b[49m\u001b[38;5;124;43m'\u001b[39;49m\u001b[38;5;124;43msrc/\u001b[39;49m\u001b[38;5;124;43m'\u001b[39;49m\u001b[43m)\u001b[49m:\n\u001b[1;32m     29\u001b[0m         os\u001b[38;5;241m.\u001b[39mremove(\u001b[38;5;124m'\u001b[39m\u001b[38;5;124msrc/\u001b[39m\u001b[38;5;124m'\u001b[39m \u001b[38;5;241m+\u001b[39m filename)\n\u001b[1;32m     31\u001b[0m \u001b[38;5;66;03m# Declare a new CrawlerProcess with some settings\u001b[39;00m\n\u001b[1;32m     32\u001b[0m \u001b[38;5;66;03m## USER_AGENT => Simulates a browser on an OS\u001b[39;00m\n\u001b[1;32m     33\u001b[0m \u001b[38;5;66;03m## LOG_LEVEL => Minimal Level of Log \u001b[39;00m\n\u001b[1;32m     34\u001b[0m \u001b[38;5;66;03m## FEEDS => Where the file will be stored \u001b[39;00m\n\u001b[1;32m     35\u001b[0m \u001b[38;5;66;03m## More info on built-in settings => https://docs.scrapy.org/en/latest/topics/settings.html?highlight=settings#settings\u001b[39;00m\n",
      "\u001b[0;31mFileNotFoundError\u001b[0m: [Errno 2] No such file or directory: 'src/'"
     ]
    }
   ],
   "source": [
    "\n",
    "\n",
    "\n",
    "class QuotesSpider(scrapy.Spider):\n",
    "\n",
    "    # Name of your spider\n",
    "    name = \"quotes\"\n",
    "\n",
    "    # Url to start your spider from \n",
    "    start_urls = [\n",
    "        'http://quotes.toscrape.com/page/1/',\n",
    "    ]\n",
    "\n",
    "    # Callback function that will be called when starting your spider\n",
    "    # It will get text, author and tags of all the <div> with class=\"quote\"\n",
    "    def parse(self, response):\n",
    "        n = 10\n",
    "        for i in range(n):\n",
    "            i = i + 1\n",
    "            yield {\n",
    "                'text': response.xpath('/html/body/div/div[2]/div[1]/div[{}]/span[1]/text()'.format(i)).get(),\n",
    "                'author': response.xpath('/html/body/div/div[2]/div[1]/div[{}]/span[2]/small/text()'.format(i)).get(),\n",
    "                'tags': response.xpath('/html/body/div/div[2]/div[1]/div[{}]/div/a/text()'.format(i)).getall(),\n",
    "            }\n",
    "            \n",
    "# Name of the file where the results will be saved\n",
    "filename = \"2_quotes.json\"\n",
    "\n",
    "# If file already exists, delete it before crawling (because Scrapy will \n",
    "# concatenate the last and new results otherwise)\n",
    "if filename in os.listdir('src/'):\n",
    "        os.remove('src/' + filename)\n",
    "\n",
    "# Declare a new CrawlerProcess with some settings\n",
    "## USER_AGENT => Simulates a browser on an OS\n",
    "## LOG_LEVEL => Minimal Level of Log \n",
    "## FEEDS => Where the file will be stored \n",
    "## More info on built-in settings => https://docs.scrapy.org/en/latest/topics/settings.html?highlight=settings#settings\n",
    "process = CrawlerProcess(settings = {\n",
    "    'USER_AGENT': 'Chrome/97.0',\n",
    "    'LOG_LEVEL': logging.INFO,\n",
    "    \"FEEDS\": {\n",
    "        'src/' + filename : {\"format\": \"json\"},\n",
    "    }\n",
    "})\n",
    "\n",
    "# Start the crawling using the spider you defined above\n",
    "process.crawl(QuotesSpider)\n",
    "process.start()"
   ]
  }
 ],
 "metadata": {
  "kernelspec": {
   "display_name": "Python 3",
   "language": "python",
   "name": "python3"
  },
  "language_info": {
   "codemirror_mode": {
    "name": "ipython",
    "version": 3
   },
   "file_extension": ".py",
   "mimetype": "text/x-python",
   "name": "python",
   "nbconvert_exporter": "python",
   "pygments_lexer": "ipython3",
   "version": "3.12.1"
  }
 },
 "nbformat": 4,
 "nbformat_minor": 2
}
