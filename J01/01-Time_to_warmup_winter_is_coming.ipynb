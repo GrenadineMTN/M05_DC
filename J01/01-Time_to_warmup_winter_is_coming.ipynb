{
 "cells": [
  {
   "cell_type": "markdown",
   "metadata": {
    "colab_type": "text",
    "id": "fSl95NHa4Mi3"
   },
   "source": [
    "# Game of Thrones\n",
    "\n",
    "Are you a fan of the Game of Thrones series? Let's test it. Let's use the API: <a href=\"https://anapioficeandfire.com/\" target=\"_blank\">https://anapioficeandfire.com/</a> to find out more about the series."
   ]
  },
  {
   "cell_type": "markdown",
   "metadata": {
    "colab_type": "text",
    "id": "eQovpyB74PWH"
   },
   "source": [
    "1. Import the following libraries: \n",
    "\n",
    "      * ```requests```\n",
    "      * ```pandas```\n",
    "      * ```json```"
   ]
  },
  {
   "cell_type": "code",
   "execution_count": 15,
   "metadata": {
    "colab": {},
    "colab_type": "code",
    "id": "ynMhSC9p4GsE"
   },
   "outputs": [],
   "source": [
    "import requests\n",
    "import pandas as pd\n",
    "import json"
   ]
  },
  {
   "cell_type": "markdown",
   "metadata": {
    "colab_type": "text",
    "id": "sqtBTZQH4f8X"
   },
   "source": [
    "2. Go to the URL indicated in the description above. Using `requests`, get data on a character in the series. It doesn't matter who the character is."
   ]
  },
  {
   "cell_type": "code",
   "execution_count": 29,
   "metadata": {
    "colab": {
     "base_uri": "https://localhost:8080/",
     "height": 54
    },
    "colab_type": "code",
    "id": "sQRAIy7x4v37",
    "outputId": "312ab2ec-7587-489a-957e-89ad90864c87"
   },
   "outputs": [
    {
     "data": {
      "text/plain": [
       "b'{\"url\":\"https://anapioficeandfire.com/api/characters/583\",\"name\":\"Jon Snow\",\"gender\":\"Male\",\"culture\":\"Northmen\",\"born\":\"In 283 AC\",\"died\":\"\",\"titles\":[\"Lord Commander of the Night\\'s Watch\"],\"aliases\":[\"Lord Snow\",\"Ned Stark\\'s Bastard\",\"The Snow of Winterfell\",\"The Crow-Come-Over\",\"The 998th Lord Commander of the Night\\'s Watch\",\"The Bastard of Winterfell\",\"The Black Bastard of the Wall\",\"Lord Crow\"],\"father\":\"\",\"mother\":\"\",\"spouse\":\"\",\"allegiances\":[\"https://anapioficeandfire.com/api/houses/362\"],\"books\":[\"https://anapioficeandfire.com/api/books/5\"],\"povBooks\":[\"https://anapioficeandfire.com/api/books/1\",\"https://anapioficeandfire.com/api/books/2\",\"https://anapioficeandfire.com/api/books/3\",\"https://anapioficeandfire.com/api/books/8\"],\"tvSeries\":[\"Season 1\",\"Season 2\",\"Season 3\",\"Season 4\",\"Season 5\",\"Season 6\"],\"playedBy\":[\"Kit Harington\"]}'"
      ]
     },
     "execution_count": 29,
     "metadata": {},
     "output_type": "execute_result"
    }
   ],
   "source": [
    "r = requests.get(\"https://anapioficeandfire.com/api/characters/583\")\n",
    "r.content"
   ]
  },
  {
   "cell_type": "markdown",
   "metadata": {
    "colab_type": "text",
    "id": "2S-Rci2j45lQ"
   },
   "source": [
    "3. Extract these data in JSON format:"
   ]
  },
  {
   "cell_type": "code",
   "execution_count": 23,
   "metadata": {
    "colab": {
     "base_uri": "https://localhost:8080/",
     "height": 369
    },
    "colab_type": "code",
    "id": "zCelPE_L490H",
    "outputId": "3be53a86-bd9b-445c-e6ef-cf09def6e8f0"
   },
   "outputs": [
    {
     "data": {
      "text/plain": [
       "{'url': 'https://anapioficeandfire.com/api/characters/583',\n",
       " 'name': 'Jon Snow',\n",
       " 'gender': 'Male',\n",
       " 'culture': 'Northmen',\n",
       " 'born': 'In 283 AC',\n",
       " 'died': '',\n",
       " 'titles': [\"Lord Commander of the Night's Watch\"],\n",
       " 'aliases': ['Lord Snow',\n",
       "  \"Ned Stark's Bastard\",\n",
       "  'The Snow of Winterfell',\n",
       "  'The Crow-Come-Over',\n",
       "  \"The 998th Lord Commander of the Night's Watch\",\n",
       "  'The Bastard of Winterfell',\n",
       "  'The Black Bastard of the Wall',\n",
       "  'Lord Crow'],\n",
       " 'father': '',\n",
       " 'mother': '',\n",
       " 'spouse': '',\n",
       " 'allegiances': ['https://anapioficeandfire.com/api/houses/362'],\n",
       " 'books': ['https://anapioficeandfire.com/api/books/5'],\n",
       " 'povBooks': ['https://anapioficeandfire.com/api/books/1',\n",
       "  'https://anapioficeandfire.com/api/books/2',\n",
       "  'https://anapioficeandfire.com/api/books/3',\n",
       "  'https://anapioficeandfire.com/api/books/8'],\n",
       " 'tvSeries': ['Season 1',\n",
       "  'Season 2',\n",
       "  'Season 3',\n",
       "  'Season 4',\n",
       "  'Season 5',\n",
       "  'Season 6'],\n",
       " 'playedBy': ['Kit Harington']}"
      ]
     },
     "execution_count": 23,
     "metadata": {},
     "output_type": "execute_result"
    }
   ],
   "source": [
    "r.json()"
   ]
  },
  {
   "cell_type": "markdown",
   "metadata": {
    "colab_type": "text",
    "id": "PucGBhae4_NN"
   },
   "source": [
    "4. Now extract the JSON keys you have obtained and create a DataFrame that will have the JSON keys you extracted as a column.\n",
    "\n",
    "**Hint**: we can use: `r.json().keys()`."
   ]
  },
  {
   "cell_type": "code",
   "execution_count": 30,
   "metadata": {
    "colab": {
     "base_uri": "https://localhost:8080/",
     "height": 68
    },
    "colab_type": "code",
    "id": "ySmWW20P4GuQ",
    "outputId": "798c98c7-7e5c-40eb-b732-e66210644ed6"
   },
   "outputs": [
    {
     "name": "stdout",
     "output_type": "stream",
     "text": [
      "r.json().keys() ==  dict_keys(['url', 'name', 'gender', 'culture', 'born', 'died', 'titles', 'aliases', 'father', 'mother', 'spouse', 'allegiances', 'books', 'povBooks', 'tvSeries', 'playedBy'])\n"
     ]
    },
    {
     "data": {
      "text/html": [
       "<div>\n",
       "<style scoped>\n",
       "    .dataframe tbody tr th:only-of-type {\n",
       "        vertical-align: middle;\n",
       "    }\n",
       "\n",
       "    .dataframe tbody tr th {\n",
       "        vertical-align: top;\n",
       "    }\n",
       "\n",
       "    .dataframe thead th {\n",
       "        text-align: right;\n",
       "    }\n",
       "</style>\n",
       "<table border=\"1\" class=\"dataframe\">\n",
       "  <thead>\n",
       "    <tr style=\"text-align: right;\">\n",
       "      <th></th>\n",
       "      <th>url</th>\n",
       "      <th>name</th>\n",
       "      <th>gender</th>\n",
       "      <th>culture</th>\n",
       "      <th>born</th>\n",
       "      <th>died</th>\n",
       "      <th>titles</th>\n",
       "      <th>aliases</th>\n",
       "      <th>father</th>\n",
       "      <th>mother</th>\n",
       "      <th>spouse</th>\n",
       "      <th>allegiances</th>\n",
       "      <th>books</th>\n",
       "      <th>povBooks</th>\n",
       "      <th>tvSeries</th>\n",
       "      <th>playedBy</th>\n",
       "    </tr>\n",
       "  </thead>\n",
       "  <tbody>\n",
       "  </tbody>\n",
       "</table>\n",
       "</div>"
      ],
      "text/plain": [
       "Empty DataFrame\n",
       "Columns: [url, name, gender, culture, born, died, titles, aliases, father, mother, spouse, allegiances, books, povBooks, tvSeries, playedBy]\n",
       "Index: []"
      ]
     },
     "execution_count": 30,
     "metadata": {},
     "output_type": "execute_result"
    }
   ],
   "source": [
    "r = requests.get(\"https://anapioficeandfire.com/api/characters/583\")\n",
    "\n",
    "data = pd.DataFrame(columns = r.json().keys())\n",
    "print(\"r.json().keys() == \", r.json().keys())\n",
    "data.head()\n"
   ]
  },
  {
   "cell_type": "markdown",
   "metadata": {
    "colab_type": "text",
    "id": "vPJWhqcB7bbs"
   },
   "source": [
    "5. Create a loop to extract data from the firsts 150 characters of the series and add them to your DataFrame."
   ]
  },
  {
   "cell_type": "code",
   "execution_count": 36,
   "metadata": {
    "colab": {},
    "colab_type": "code",
    "id": "U4cafYYW4Guk",
    "tags": []
   },
   "outputs": [
    {
     "name": "stdout",
     "output_type": "stream",
     "text": [
      "1 personnage done\n",
      "2 personnage done\n",
      "3 personnage done\n",
      "4 personnage done\n",
      "5 personnage done\n",
      "6 personnage done\n",
      "7 personnage done\n",
      "8 personnage done\n",
      "9 personnage done\n",
      "10 personnage done\n",
      "11 personnage done\n",
      "12 personnage done\n",
      "13 personnage done\n",
      "14 personnage done\n",
      "15 personnage done\n",
      "16 personnage done\n",
      "17 personnage done\n",
      "18 personnage done\n",
      "19 personnage done\n",
      "20 personnage done\n",
      "21 personnage done\n",
      "22 personnage done\n",
      "23 personnage done\n",
      "24 personnage done\n",
      "25 personnage done\n",
      "26 personnage done\n",
      "27 personnage done\n",
      "28 personnage done\n",
      "29 personnage done\n",
      "30 personnage done\n",
      "31 personnage done\n",
      "32 personnage done\n",
      "33 personnage done\n",
      "34 personnage done\n",
      "35 personnage done\n",
      "36 personnage done\n",
      "37 personnage done\n",
      "38 personnage done\n",
      "39 personnage done\n",
      "40 personnage done\n",
      "41 personnage done\n",
      "42 personnage done\n",
      "43 personnage done\n",
      "44 personnage done\n",
      "45 personnage done\n",
      "46 personnage done\n",
      "47 personnage done\n",
      "48 personnage done\n",
      "49 personnage done\n",
      "50 personnage done\n",
      "51 personnage done\n",
      "52 personnage done\n",
      "53 personnage done\n",
      "54 personnage done\n",
      "55 personnage done\n",
      "56 personnage done\n",
      "57 personnage done\n",
      "58 personnage done\n",
      "59 personnage done\n",
      "60 personnage done\n",
      "61 personnage done\n",
      "62 personnage done\n",
      "63 personnage done\n",
      "64 personnage done\n",
      "65 personnage done\n",
      "66 personnage done\n",
      "67 personnage done\n",
      "68 personnage done\n",
      "69 personnage done\n",
      "70 personnage done\n",
      "71 personnage done\n",
      "72 personnage done\n",
      "73 personnage done\n",
      "74 personnage done\n",
      "75 personnage done\n",
      "76 personnage done\n",
      "77 personnage done\n",
      "78 personnage done\n",
      "79 personnage done\n",
      "80 personnage done\n",
      "81 personnage done\n",
      "82 personnage done\n",
      "83 personnage done\n",
      "84 personnage done\n",
      "85 personnage done\n",
      "86 personnage done\n",
      "87 personnage done\n",
      "88 personnage done\n",
      "89 personnage done\n",
      "90 personnage done\n",
      "91 personnage done\n",
      "92 personnage done\n",
      "93 personnage done\n",
      "94 personnage done\n",
      "95 personnage done\n",
      "96 personnage done\n",
      "97 personnage done\n",
      "98 personnage done\n",
      "99 personnage done\n",
      "100 personnage done\n",
      "101 personnage done\n",
      "102 personnage done\n",
      "103 personnage done\n",
      "104 personnage done\n",
      "105 personnage done\n",
      "106 personnage done\n",
      "107 personnage done\n",
      "108 personnage done\n",
      "109 personnage done\n",
      "110 personnage done\n",
      "111 personnage done\n",
      "112 personnage done\n",
      "113 personnage done\n",
      "114 personnage done\n",
      "115 personnage done\n",
      "116 personnage done\n",
      "117 personnage done\n",
      "118 personnage done\n",
      "119 personnage done\n",
      "120 personnage done\n",
      "121 personnage done\n",
      "122 personnage done\n",
      "123 personnage done\n",
      "124 personnage done\n",
      "125 personnage done\n",
      "126 personnage done\n",
      "127 personnage done\n",
      "128 personnage done\n",
      "129 personnage done\n",
      "130 personnage done\n",
      "131 personnage done\n",
      "132 personnage done\n",
      "133 personnage done\n",
      "134 personnage done\n",
      "135 personnage done\n",
      "136 personnage done\n",
      "137 personnage done\n",
      "138 personnage done\n",
      "139 personnage done\n",
      "140 personnage done\n",
      "141 personnage done\n",
      "142 personnage done\n",
      "143 personnage done\n",
      "144 personnage done\n",
      "145 personnage done\n",
      "146 personnage done\n",
      "147 personnage done\n",
      "148 personnage done\n",
      "149 personnage done\n",
      "150 personnage done\n"
     ]
    }
   ],
   "source": [
    "# First, we iterate over the firsts 150 characters\n",
    "for i in range(1,151):\n",
    "    # Make a request\n",
    "    r = requests.get(\"https://anapioficeandfire.com/api/characters/{}\".format(i))\n",
    "    # Store it in our DataFrame\n",
    "    data = data._append(r.json(), ignore_index=True)\n",
    "    print(\"{} personnage done\".format(i))\n",
    "\n"
   ]
  },
  {
   "cell_type": "code",
   "execution_count": 37,
   "metadata": {},
   "outputs": [
    {
     "data": {
      "text/html": [
       "<div>\n",
       "<style scoped>\n",
       "    .dataframe tbody tr th:only-of-type {\n",
       "        vertical-align: middle;\n",
       "    }\n",
       "\n",
       "    .dataframe tbody tr th {\n",
       "        vertical-align: top;\n",
       "    }\n",
       "\n",
       "    .dataframe thead th {\n",
       "        text-align: right;\n",
       "    }\n",
       "</style>\n",
       "<table border=\"1\" class=\"dataframe\">\n",
       "  <thead>\n",
       "    <tr style=\"text-align: right;\">\n",
       "      <th></th>\n",
       "      <th>url</th>\n",
       "      <th>name</th>\n",
       "      <th>gender</th>\n",
       "      <th>culture</th>\n",
       "      <th>born</th>\n",
       "      <th>died</th>\n",
       "      <th>titles</th>\n",
       "      <th>aliases</th>\n",
       "      <th>father</th>\n",
       "      <th>mother</th>\n",
       "      <th>spouse</th>\n",
       "      <th>allegiances</th>\n",
       "      <th>books</th>\n",
       "      <th>povBooks</th>\n",
       "      <th>tvSeries</th>\n",
       "      <th>playedBy</th>\n",
       "    </tr>\n",
       "  </thead>\n",
       "  <tbody>\n",
       "    <tr>\n",
       "      <th>0</th>\n",
       "      <td>https://anapioficeandfire.com/api/characters/150</td>\n",
       "      <td>Asha Greyjoy</td>\n",
       "      <td>Female</td>\n",
       "      <td>Ironborn</td>\n",
       "      <td>In 275 AC or 276 AC, at Pyke</td>\n",
       "      <td></td>\n",
       "      <td>[Princess, Captain of the Black Wind, Conquero...</td>\n",
       "      <td>[Esgred, The Kraken's Daughter]</td>\n",
       "      <td></td>\n",
       "      <td></td>\n",
       "      <td>https://anapioficeandfire.com/api/characters/1372</td>\n",
       "      <td>[https://anapioficeandfire.com/api/houses/169,...</td>\n",
       "      <td>[https://anapioficeandfire.com/api/books/1, ht...</td>\n",
       "      <td>[https://anapioficeandfire.com/api/books/5, ht...</td>\n",
       "      <td>[Season 2, Season 3, Season 4]</td>\n",
       "      <td>[Gemma Whelan]</td>\n",
       "    </tr>\n",
       "    <tr>\n",
       "      <th>1</th>\n",
       "      <td>https://anapioficeandfire.com/api/characters/150</td>\n",
       "      <td>Asha Greyjoy</td>\n",
       "      <td>Female</td>\n",
       "      <td>Ironborn</td>\n",
       "      <td>In 275 AC or 276 AC, at Pyke</td>\n",
       "      <td></td>\n",
       "      <td>[Princess, Captain of the Black Wind, Conquero...</td>\n",
       "      <td>[Esgred, The Kraken's Daughter]</td>\n",
       "      <td></td>\n",
       "      <td></td>\n",
       "      <td>https://anapioficeandfire.com/api/characters/1372</td>\n",
       "      <td>[https://anapioficeandfire.com/api/houses/169,...</td>\n",
       "      <td>[https://anapioficeandfire.com/api/books/1, ht...</td>\n",
       "      <td>[https://anapioficeandfire.com/api/books/5, ht...</td>\n",
       "      <td>[Season 2, Season 3, Season 4]</td>\n",
       "      <td>[Gemma Whelan]</td>\n",
       "    </tr>\n",
       "    <tr>\n",
       "      <th>2</th>\n",
       "      <td>https://anapioficeandfire.com/api/characters/1</td>\n",
       "      <td></td>\n",
       "      <td>Female</td>\n",
       "      <td>Braavosi</td>\n",
       "      <td></td>\n",
       "      <td></td>\n",
       "      <td>[]</td>\n",
       "      <td>[The Daughter of the Dusk]</td>\n",
       "      <td></td>\n",
       "      <td></td>\n",
       "      <td></td>\n",
       "      <td>[]</td>\n",
       "      <td>[https://anapioficeandfire.com/api/books/5]</td>\n",
       "      <td>[]</td>\n",
       "      <td>[]</td>\n",
       "      <td>[]</td>\n",
       "    </tr>\n",
       "    <tr>\n",
       "      <th>3</th>\n",
       "      <td>https://anapioficeandfire.com/api/characters/2</td>\n",
       "      <td>Walder</td>\n",
       "      <td>Male</td>\n",
       "      <td></td>\n",
       "      <td></td>\n",
       "      <td></td>\n",
       "      <td>[]</td>\n",
       "      <td>[Hodor]</td>\n",
       "      <td></td>\n",
       "      <td></td>\n",
       "      <td></td>\n",
       "      <td>[https://anapioficeandfire.com/api/houses/362]</td>\n",
       "      <td>[https://anapioficeandfire.com/api/books/1, ht...</td>\n",
       "      <td>[]</td>\n",
       "      <td>[Season 1, Season 2, Season 3, Season 4, Seaso...</td>\n",
       "      <td>[Kristian Nairn]</td>\n",
       "    </tr>\n",
       "    <tr>\n",
       "      <th>4</th>\n",
       "      <td>https://anapioficeandfire.com/api/characters/3</td>\n",
       "      <td></td>\n",
       "      <td>Male</td>\n",
       "      <td></td>\n",
       "      <td></td>\n",
       "      <td></td>\n",
       "      <td>[]</td>\n",
       "      <td>[Lamprey]</td>\n",
       "      <td></td>\n",
       "      <td></td>\n",
       "      <td></td>\n",
       "      <td>[https://anapioficeandfire.com/api/houses/15]</td>\n",
       "      <td>[https://anapioficeandfire.com/api/books/3]</td>\n",
       "      <td>[]</td>\n",
       "      <td>[]</td>\n",
       "      <td>[]</td>\n",
       "    </tr>\n",
       "  </tbody>\n",
       "</table>\n",
       "</div>"
      ],
      "text/plain": [
       "                                                url          name  gender  \\\n",
       "0  https://anapioficeandfire.com/api/characters/150  Asha Greyjoy  Female   \n",
       "1  https://anapioficeandfire.com/api/characters/150  Asha Greyjoy  Female   \n",
       "2    https://anapioficeandfire.com/api/characters/1                Female   \n",
       "3    https://anapioficeandfire.com/api/characters/2        Walder    Male   \n",
       "4    https://anapioficeandfire.com/api/characters/3                  Male   \n",
       "\n",
       "    culture                          born died  \\\n",
       "0  Ironborn  In 275 AC or 276 AC, at Pyke        \n",
       "1  Ironborn  In 275 AC or 276 AC, at Pyke        \n",
       "2  Braavosi                                      \n",
       "3                                                \n",
       "4                                                \n",
       "\n",
       "                                              titles  \\\n",
       "0  [Princess, Captain of the Black Wind, Conquero...   \n",
       "1  [Princess, Captain of the Black Wind, Conquero...   \n",
       "2                                                 []   \n",
       "3                                                 []   \n",
       "4                                                 []   \n",
       "\n",
       "                           aliases father mother  \\\n",
       "0  [Esgred, The Kraken's Daughter]                 \n",
       "1  [Esgred, The Kraken's Daughter]                 \n",
       "2       [The Daughter of the Dusk]                 \n",
       "3                          [Hodor]                 \n",
       "4                        [Lamprey]                 \n",
       "\n",
       "                                              spouse  \\\n",
       "0  https://anapioficeandfire.com/api/characters/1372   \n",
       "1  https://anapioficeandfire.com/api/characters/1372   \n",
       "2                                                      \n",
       "3                                                      \n",
       "4                                                      \n",
       "\n",
       "                                         allegiances  \\\n",
       "0  [https://anapioficeandfire.com/api/houses/169,...   \n",
       "1  [https://anapioficeandfire.com/api/houses/169,...   \n",
       "2                                                 []   \n",
       "3     [https://anapioficeandfire.com/api/houses/362]   \n",
       "4      [https://anapioficeandfire.com/api/houses/15]   \n",
       "\n",
       "                                               books  \\\n",
       "0  [https://anapioficeandfire.com/api/books/1, ht...   \n",
       "1  [https://anapioficeandfire.com/api/books/1, ht...   \n",
       "2        [https://anapioficeandfire.com/api/books/5]   \n",
       "3  [https://anapioficeandfire.com/api/books/1, ht...   \n",
       "4        [https://anapioficeandfire.com/api/books/3]   \n",
       "\n",
       "                                            povBooks  \\\n",
       "0  [https://anapioficeandfire.com/api/books/5, ht...   \n",
       "1  [https://anapioficeandfire.com/api/books/5, ht...   \n",
       "2                                                 []   \n",
       "3                                                 []   \n",
       "4                                                 []   \n",
       "\n",
       "                                            tvSeries          playedBy  \n",
       "0                     [Season 2, Season 3, Season 4]    [Gemma Whelan]  \n",
       "1                     [Season 2, Season 3, Season 4]    [Gemma Whelan]  \n",
       "2                                                 []                []  \n",
       "3  [Season 1, Season 2, Season 3, Season 4, Seaso...  [Kristian Nairn]  \n",
       "4                                                 []                []  "
      ]
     },
     "execution_count": 37,
     "metadata": {},
     "output_type": "execute_result"
    }
   ],
   "source": [
    "data.head(5)"
   ]
  }
 ],
 "metadata": {
  "colab": {
   "collapsed_sections": [],
   "name": "Game Of Thrones - Exercice SOLUTIONS.ipynb",
   "provenance": []
  },
  "kernelspec": {
   "display_name": "Python 3 (ipykernel)",
   "language": "python",
   "name": "python3"
  },
  "language_info": {
   "codemirror_mode": {
    "name": "ipython",
    "version": 3
   },
   "file_extension": ".py",
   "mimetype": "text/x-python",
   "name": "python",
   "nbconvert_exporter": "python",
   "pygments_lexer": "ipython3",
   "version": "3.12.1"
  }
 },
 "nbformat": 4,
 "nbformat_minor": 4
}
